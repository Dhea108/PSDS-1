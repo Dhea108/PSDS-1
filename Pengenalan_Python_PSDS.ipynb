{
  "nbformat": 4,
  "nbformat_minor": 0,
  "metadata": {
    "colab": {
      "provenance": []
    },
    "kernelspec": {
      "name": "python3",
      "display_name": "Python 3"
    },
    "language_info": {
      "name": "python"
    }
  },
  "cells": [
    {
      "cell_type": "markdown",
      "source": [
        "# Struktur Program Pada Python"
      ],
      "metadata": {
        "id": "z_gLfa6N5cQP"
      }
    },
    {
      "cell_type": "markdown",
      "source": [
        "1. **Statement**"
      ],
      "metadata": {
        "id": "6lJseELv3DYH"
      }
    },
    {
      "cell_type": "code",
      "source": [
        "print(\"belajar Python menyenangkan\")\n",
        "print(\"hallo dunia\")"
      ],
      "metadata": {
        "colab": {
          "base_uri": "https://localhost:8080/"
        },
        "id": "SnoSOcFB28HQ",
        "outputId": "a6df6be0-97c8-41ca-b2d2-97dcdad92b1c"
      },
      "execution_count": 2,
      "outputs": [
        {
          "output_type": "stream",
          "name": "stdout",
          "text": [
            "belajar Python menyenangkan\n",
            "hallo dunia\n"
          ]
        }
      ]
    },
    {
      "cell_type": "markdown",
      "source": [
        "2. **Variables**"
      ],
      "metadata": {
        "id": "_PQqa1Sp3MgF"
      }
    },
    {
      "cell_type": "code",
      "source": [
        "bilangan1 = 5\n",
        "bilangan2 = 10\n",
        "kalimat = \"Pejuang Data 3\""
      ],
      "metadata": {
        "id": "RLPW5f_R3ImM"
      },
      "execution_count": 3,
      "outputs": []
    },
    {
      "cell_type": "markdown",
      "source": [
        "3. **Operators**"
      ],
      "metadata": {
        "id": "RrscGBUH4DBq"
      }
    },
    {
      "cell_type": "code",
      "source": [
        "bilangan1 + bilangan2"
      ],
      "metadata": {
        "colab": {
          "base_uri": "https://localhost:8080/"
        },
        "id": "v-UHgA9s3RcV",
        "outputId": "37242f42-2417-4d11-fc7c-3627d325f3b6"
      },
      "execution_count": 4,
      "outputs": [
        {
          "output_type": "execute_result",
          "data": {
            "text/plain": [
              "15"
            ]
          },
          "metadata": {},
          "execution_count": 4
        }
      ]
    },
    {
      "cell_type": "markdown",
      "source": [
        "# Comments"
      ],
      "metadata": {
        "id": "HqQ3PoBq4nn5"
      }
    },
    {
      "cell_type": "markdown",
      "source": [
        "a. **single line comment**"
      ],
      "metadata": {
        "id": "e3nGNa-n4ZnO"
      }
    },
    {
      "cell_type": "code",
      "source": [
        "# Ini adalah Comment\n",
        "print(\"belajar Python\")"
      ],
      "metadata": {
        "colab": {
          "base_uri": "https://localhost:8080/"
        },
        "id": "GztFJDli4HSA",
        "outputId": "3a509f39-56d5-4cb8-c260-b14b277d01a6"
      },
      "execution_count": 5,
      "outputs": [
        {
          "output_type": "stream",
          "name": "stdout",
          "text": [
            "belajar Python\n"
          ]
        }
      ]
    },
    {
      "cell_type": "markdown",
      "source": [
        "b. **multi line comment**"
      ],
      "metadata": {
        "id": "FdMZbJCs4xFL"
      }
    },
    {
      "cell_type": "code",
      "source": [
        "'''\n",
        "Ini adalah komentar panjang\n",
        "Bisa digunakan untuk memberikan penjelasan\n",
        "panjang pada Sell Kode Python,\n",
        "Misal dokumentasi program, spesifikasi\n",
        "input output atau lainnya\n",
        "'''\n",
        "print('Belajar Python menyenangkan')"
      ],
      "metadata": {
        "colab": {
          "base_uri": "https://localhost:8080/"
        },
        "id": "gApOYhnT4fPX",
        "outputId": "f62fadf6-0efb-410d-f846-6924861a89b4"
      },
      "execution_count": 7,
      "outputs": [
        {
          "output_type": "stream",
          "name": "stdout",
          "text": [
            "Belajar Python menyenangkan\n"
          ]
        }
      ]
    },
    {
      "cell_type": "code",
      "source": [],
      "metadata": {
        "id": "iI4h9vre4_6e"
      },
      "execution_count": null,
      "outputs": []
    }
  ]
}